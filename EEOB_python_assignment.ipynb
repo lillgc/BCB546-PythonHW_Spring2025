{
 "cells": [
  {
   "cell_type": "markdown",
   "id": "cee9873a-de95-4ee8-819f-81024caa5086",
   "metadata": {},
   "source": [
    "######################## BCB 546X: Python Assignment Details ########################"
   ]
  },
  {
   "cell_type": "markdown",
   "id": "626f9a53-cf6a-4331-9485-fb33edc52eda",
   "metadata": {},
   "source": [
    "# ** Your Mission: Complete Python code in a Jupyter Notebook ** #"
   ]
  },
  {
   "cell_type": "markdown",
   "id": "919ce44c-3b92-4997-9e93-434dd44c1946",
   "metadata": {},
   "source": [
    "In these commented lines, you will find a list of tasks. Below, within the code, you will find suggestions on how to complete this. Conveniently, you can load this script into a Jupyter cell using the `%load` magic command. You might find that useful. "
   ]
  },
  {
   "cell_type": "raw",
   "id": "c96b2388-339e-4196-a18a-df6d732fd074",
   "metadata": {},
   "source": [
    "#-- Functions --#\n",
    "## 1. Document Dr. X's function with comments and with markdown text in your Jupyter notebook.\n",
    "## 2. Write a function that translates a string of nucleotides to amino acids based on Dr. X's pseudo-code suggestion.\n",
    "## 3. Write an alternative translation function.\n",
    "## 4. Write a function that calculates the molecular weight of each 3 amino acid sequence.\n",
    "## 5. Write a function that computes the GC-content of each DNA sequence."
   ]
  },
  {
   "cell_type": "raw",
   "id": "b57bea6a-787c-4128-b5d5-0b7d16d8c0ef",
   "metadata": {},
   "source": [
    "#-- In the MAIN part of the script --#\n",
    "## 6. Add two new columns to the penguin DataFrame: (1) molecular weight and (2) GC content.\n",
    "## 7. Call your functions from step 3 (or step 2) and step 4 and fill in the new columns in the DataFrame.\n",
    "## 8. Plot a bar-chart of adult body mass per species. In your description of the graph, provide text that answers these questions: \n",
    "#       a. What is the smallest penguin species? \n",
    "#       b. What is the geographical range of this species?\n",
    "## 9. Plot a graph that shows the molecular weight as a function of GC content. \n",
    "## 10. Write the entire DataFrame to a new CSV file that includes your new columns.\n",
    "## 11. BONUS: What other visualizations, functions or tasks would you do with this dataset? Add something interesting for fun. (0.5 additional points if your total score is < 15)."
   ]
  },
  {
   "cell_type": "raw",
   "id": "9f987e80-9c5a-44bf-bf04-bba8bf0f22f8",
   "metadata": {},
   "source": [
    "#-- Additional Instructions (points will be deducted if these instructions are not heeded) --#\n",
    "## ** Do all of this in a Jupyter notebook and push it to a GitHub repository.\n",
    "## ** Your repository should not contain any files other than those associated with this assignment. \n",
    "## ** Read all comments carefully and answer the questions by including information in your Jupyter notebook.\n",
    "## ** Document all of your code (and Dr. X's code) very thoroughly so that it is clear what you did.\n",
    "## ** Include in-code comments to document functions and markdown comments to document rationale.\n",
    "## ** Be sure to cite (by providing URLs or other appropriate citations) information appropriately in your documented notebook.\n",
    "## ** Commit and push your completed work in the Jupyter notebook to your repository.\n",
    "## ** Submit the URL to your git repository via Canvas by the end of the day on May 7, 2025."
   ]
  },
  {
   "cell_type": "markdown",
   "id": "53fb89b3-77a0-42ff-93ce-b5ba063327de",
   "metadata": {},
   "source": [
    "#-- Disclaimer --#\n",
    "\n",
    "Not all of these tasks have been covered in class and you will have to use online resources to find out how to do some of these tasks."
   ]
  },
  {
   "cell_type": "markdown",
   "id": "7ce4e8e6-751a-42b1-be82-b12f116599de",
   "metadata": {},
   "source": [
    "######################## Python Translate Script ########################"
   ]
  },
  {
   "cell_type": "markdown",
   "id": "f8b4a90f-a21b-4a35-b410-deb6fbe5adbe",
   "metadata": {},
   "source": [
    "Here's the start of our Python script. Thanks for completing it for me! - Dr. X\n",
    "\n",
    "IMPORTANT: install BioPython so that this will work"
   ]
  },
  {
   "cell_type": "code",
   "execution_count": 1,
   "id": "a49be30f-5f7a-43a0-b8e6-9b75e51b1a07",
   "metadata": {},
   "outputs": [],
   "source": [
    "from Bio import SeqIO\n",
    "from Bio.Data import CodonTable\n",
    "import pandas as pd"
   ]
  },
  {
   "cell_type": "markdown",
   "id": "87230423-0428-41d9-ab46-b7dc5e818211",
   "metadata": {},
   "source": [
    "#%%%%%%%%%%%%%%%%%%#\n",
    "#### FUNCTIONS ####\n",
    "#%%%%%%%%%%%%%%%%%%#"
   ]
  },
  {
   "cell_type": "code",
   "execution_count": null,
   "id": "54ddfa87-8668-49d3-a5a5-b9108cd03d8d",
   "metadata": {},
   "outputs": [],
   "source": [
    "## 1 ##\n",
    "####### GET SEQUENCES FUNCTION ########\n",
    "## Dr. X: this gets sequences \n",
    "## Please properly document this function in the Jupyter notebook \n",
    "## Your descriptions of all functions should contain information about what the function does,\n",
    "## as well as information about the return types and arguments.\n",
    "def get_sequences_from_file(fasta_fn):\n",
    "    sequence_data_dict = {}\n",
    "    for record in SeqIO.parse(fasta_fn, \"fasta\"):\n",
    "        description = record.description.split()\n",
    "        species_name = description[1] + \" \" + description[2]\n",
    "        sequence_data_dict[species_name] = record.seq\n",
    "    return(sequence_data_dict)"
   ]
  },
  {
   "cell_type": "code",
   "execution_count": null,
   "id": "4ab3b7db-1fd4-465a-a659-06b657d8a561",
   "metadata": {},
   "outputs": [],
   "source": [
    "## 2 ##\n",
    "####### YOUR STRING-TRANSLATE FUNCTION ########\n",
    "## Write a function that translates sequences\n",
    "## All sequences start at codon position 1\n",
    "## Complete a function that translates using a loop over the string of nucleotides\n",
    "## Here is  some pseudo-code and suggestions\n",
    "## feel free to change the function and variable names\n",
    "# def translate_function(string_nucleotides): \n",
    "#     mito_table = CodonTable.unambiguous_dna_by_name[\"Vertebrate Mitochondrial\"] # this should work using BioPython (be sure to check what this returns)\n",
    "#     for-loop through every 3rd position in string_nucleotides to get the codon using range subsets\n",
    "#         # IMPORTANT: if the sequence has a stop codon at the end, you should leave it off\n",
    "#         # this is how you can retrieve the amino acid: mito_table.forward_table[codon]\n",
    "#         add the aa to aa_seq_string\n",
    "#     return(aa_seq_string)"
   ]
  },
  {
   "cell_type": "code",
   "execution_count": null,
   "id": "e8763464-27b8-41a6-821b-402429053e67",
   "metadata": {},
   "outputs": [],
   "source": [
    "## 3 ##\n",
    "####### YOUR ALTERNATIVE FUNCTION ########\n",
    "## Is there a better way to write the translation function? (Hint: yes there is.) \n",
    "## Perhaps using available BioPython library utilities?\n",
    "## Please also write this function."
   ]
  },
  {
   "cell_type": "code",
   "execution_count": null,
   "id": "0667aa58-02b4-4880-9e8f-3fe68a0da03e",
   "metadata": {},
   "outputs": [],
   "source": [
    "## 4 ##\n",
    "####### YOUR COUNT AA ANALYSIS FUNCTION ########\n",
    "## Write a function that calculates the molecular weight of each amino acid sequence.\n",
    "## For this, you can use some BioPython functions. I think you can use the ProtParam module.\n",
    "## For more info, check this out: http://biopython.org/wiki/ProtParam\n",
    "## So you should import the following before defining your function:\n",
    "from Bio.SeqUtils.ProtParam import ProteinAnalysis\n",
    "# def compute_molecular_weight(aa_seq):\n",
    "#     # I think the ProtParam functions may require aa_seq to be a string.\n",
    "#     # It may not work if the amino acid sequence has stop codons.\n",
    "#     run the ProteinAnalysis() function on aa_seq\n",
    "#\t  return the molecular weight\n"
   ]
  },
  {
   "cell_type": "code",
   "execution_count": null,
   "id": "8f546e48-169c-4fe5-8d1c-5f7cd9711067",
   "metadata": {},
   "outputs": [],
   "source": [
    "## 5 ##\n",
    "####### YOUR GC CONTENT ANALYSIS FUNCTION ########\n",
    "## Write a function that calculates the GC-content (proportion of \"G\" and \"C\") of each DNA sequence and returns this value."
   ]
  },
  {
   "cell_type": "markdown",
   "id": "0c5f7dc5-c660-487d-9c1a-8d0487077afe",
   "metadata": {},
   "source": [
    "#%%%%%%%%%%%%%%%%#\n",
    "####   MAIN   ####\n",
    "#%%%%%%%%%%%%%%%%#"
   ]
  },
  {
   "cell_type": "code",
   "execution_count": null,
   "id": "efd6e51b-61a5-40e6-ba53-9ac6eb69df05",
   "metadata": {},
   "outputs": [],
   "source": [
    "cytb_seqs = get_sequences_from_file(\"penguins_cytb.fasta\") \n",
    "\n",
    "penguins_df = pd.read_csv(\"penguins_mass.csv\") # Includes only data for body mass \n",
    "species_list = list(penguins_df.species)\n",
    "\n",
    "## Suggestions for steps 6 and 7\n",
    "## Note there are other ways to do this that will be acceptable, as long as they are documented and work"
   ]
  },
  {
   "cell_type": "code",
   "execution_count": null,
   "id": "713da47f-024c-4e6c-92c7-99381c9808a8",
   "metadata": {},
   "outputs": [],
   "source": [
    "## 6 ## \n",
    "## Add two new columns to the penguin DataFrame: (1) molecular weight and (2) GC content.\n",
    "## Set the value to 'NaN' to indicate that these cells are currently empty."
   ]
  },
  {
   "cell_type": "code",
   "execution_count": null,
   "id": "c81570ba-7c32-4984-b33f-4ca155ac8661",
   "metadata": {},
   "outputs": [],
   "source": [
    "## 7 ##\n",
    "## Write a for-loop that translates each sequence and also gets molecular weight and computes the GC content\n",
    "## of each translated sequence and adds those data to DataFrame\n",
    "# for key, value in cytb_seqs.items():\n",
    "#     aa_seq = nuc2aa_translate_function(value) # whichever function you prefer of #2 or #3\n",
    "#     get the molecular weight of aa_seq\n",
    "#     get the GC content of the DNA sequence\n",
    "#     fill in empty cells in DF that you created above"
   ]
  },
  {
   "cell_type": "code",
   "execution_count": null,
   "id": "aa83f543-c533-4509-b7ac-c26f8ae09cbb",
   "metadata": {},
   "outputs": [],
   "source": [
    "## 8 ##\n",
    "## Plot a bar-chart of the mass with the x-axes labeled with species names.\n",
    "## *Q1* What is the smallest penguin species? \n",
    "## *Q2* What is the geographical range of this species?"
   ]
  },
  {
   "cell_type": "code",
   "execution_count": null,
   "id": "bc82b63f-4bb8-46b5-917e-9e9257132d70",
   "metadata": {},
   "outputs": [],
   "source": [
    "## 9 ##\n",
    "## Plot a visualization of the molecular weight (y-axis) as a function of GC-content (x-axis)."
   ]
  },
  {
   "cell_type": "code",
   "execution_count": null,
   "id": "5c5785dd-5795-43e4-af3a-1c5edf7435eb",
   "metadata": {},
   "outputs": [],
   "source": [
    "## 10 ##\n",
    "## Save the new DataFrame to a file called \"penguins_mass_cytb.csv\""
   ]
  },
  {
   "cell_type": "code",
   "execution_count": null,
   "id": "ed22338d-d4cc-4cdc-a15b-b9545e46c6e2",
   "metadata": {},
   "outputs": [],
   "source": [
    "## 11 - BONUS ##\n",
    "## What else can we do with this dataset in Python? \n",
    "## Add functions or anything that might be interesting and fun. (optional)"
   ]
  }
 ],
 "metadata": {
  "kernelspec": {
   "display_name": "Python 3 (ipykernel)",
   "language": "python",
   "name": "python3"
  },
  "language_info": {
   "codemirror_mode": {
    "name": "ipython",
    "version": 3
   },
   "file_extension": ".py",
   "mimetype": "text/x-python",
   "name": "python",
   "nbconvert_exporter": "python",
   "pygments_lexer": "ipython3",
   "version": "3.12.8"
  }
 },
 "nbformat": 4,
 "nbformat_minor": 5
}
